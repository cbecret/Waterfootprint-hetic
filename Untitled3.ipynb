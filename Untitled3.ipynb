{
 "cells": [
  {
   "cell_type": "code",
   "execution_count": 3,
   "metadata": {},
   "outputs": [],
   "source": [
    "import csv\n",
    "\n",
    "with open('DF_Waterfootprint_Textile.csv') as csvfile:\n",
    "    reader = csv.DictReader(csvfile)\n",
    "    i = 0\n",
    "    for row in reader:\n",
    "        country = row['Country']\n",
    "        region = row['Province']\n",
    "        category = row['Type']\n",
    "        product = row['Product']\n",
    "        green = float(row['Green']) if row['Green'] != '' else 0\n",
    "        blue = float(row['Blue']) if row['Blue'] != '' else 0\n",
    "        grey = float(row['Grey']) if row['Grey'] != '' else 0\n",
    "        new_data = WaterData(country=country, region=region, category=category, product=product, green=green, blue=blue, grey=grey)\n",
    "        new_data.save()"
   ]
  }
 ],
 "metadata": {
  "kernelspec": {
   "display_name": "Django Shell-Plus",
   "language": "python",
   "name": "django_extensions"
  },
  "language_info": {
   "codemirror_mode": {
    "name": "ipython",
    "version": 3
   },
   "file_extension": ".py",
   "mimetype": "text/x-python",
   "name": "python",
   "nbconvert_exporter": "python",
   "pygments_lexer": "ipython3",
   "version": "3.7.0"
  }
 },
 "nbformat": 4,
 "nbformat_minor": 2
}
